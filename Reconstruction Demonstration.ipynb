{
 "cells": [
  {
   "cell_type": "markdown",
   "metadata": {},
   "source": [
    "# Ultrasound Joint Morphology MQP\n",
    "## 3D Reconstruction Demo\n",
    "\n",
    "By using B-scans obtained during an US scan with positional data obtained through an IMU, the structure of interest can be reconstructed to provide either a 3D model or a 2D image with a wider field of view. This notebook demonstrates the use of such a reconstruction to map the knee joint space in an effort to more accessibly and reliably visualize predictors of knee osteoarthritis in a pre-clinical setting."
   ]
  },
  {
   "cell_type": "markdown",
   "metadata": {},
   "source": [
    "## Reconstruction in Yaw\n",
    "In this orientation, the plane of the US array lies parallel to the motion of the probe along the curvilinear rail. Thus, the reconstructed image results in a planar image, albeit a wider field of view, of the imaged region."
   ]
  },
  {
   "cell_type": "code",
   "execution_count": 13,
   "metadata": {},
   "outputs": [
    {
     "name": "stderr",
     "output_type": "stream",
     "text": [
      "\u001b[0;31mError: Function definition not supported in this context. Create functions in code file.\n",
      "\n",
      "\u001b[0m"
     ]
    },
    {
     "ename": "Error",
     "evalue": -1,
     "output_type": "error",
     "traceback": "Error: Function definition not supported in this context. Create functions in code file.\n"
    }
   ],
   "source": [
    "function bin = fillbin_thin(frame,angle,r,method)\n",
    "    [dims,rows,cols,p] = init_bin(frame{1},r);  % bin info\n",
    "    bin = zeros(dims(1),dims(2),'double');      % initialize bin\n",
    "\n",
    "    for i = 1:length(frame)\n",
    "        % Initialize bin\n",
    "        bin2add = zeros(dims(1),dims(2),'double');\n",
    "\n",
    "        % Add frame\n",
    "        bin2add(rows(1:end-1),cols(1:end-1)) = bin2add(rows(1:end-1),cols(1:end-1)) + frame{i};\n",
    "\n",
    "        % Rotate frame around point\n",
    "        bin2add = rotateAround(bin2add,p(1),p(2),angle(i),method);\n",
    "\n",
    "        % Add to bin\n",
    "        bin = bin + bin2add;\n",
    "    end\n",
    "\n",
    "    bin = floor(bin / length(frame));\n",
    "end\n",
    "\n",
    "\n",
    "function [dims,rows,cols,point] = init_bin(frame,r)\n",
    "    % Pixel dimension of frames\n",
    "    [fh,fw] = size(frame);\n",
    "\n",
    "    % Reconstruction window size\n",
    "    dims = [r + 2 * fw,2 * (fh + r)];\n",
    "\n",
    "    % Index of initial image insertion in placeholder bin\n",
    "    rows = floor(fw / 4:fw / 4 + fh);\n",
    "    cols = floor((dims(2) - fw) / 2:(dims(2) - fw) / 2 + fw); \n",
    "    \n",
    "    % Point to rotate around\n",
    "    point = [round(fw + fh) / 2 + r + 1,dims(2) / 2];\n",
    "end"
   ]
  },
  {
   "cell_type": "code",
   "execution_count": 14,
   "metadata": {},
   "outputs": [
    {
     "name": "stderr",
     "output_type": "stream",
     "text": [
      "\u001b[0;31m'fillbin_thin' is not found in the current folder or on the MATLAB path, but exists in:\n",
      "    /Users/Shion/Desktop/MQP/Reconstruction\n",
      "\n",
      "Change the MATLAB current folder or add its folder to the MATLAB path.\n",
      "\n",
      "\u001b[0m"
     ]
    },
    {
     "ename": "Error",
     "evalue": -1,
     "output_type": "error",
     "traceback": "Undefined function 'fillbin_thin' for input arguments of type 'cell'.\n"
    }
   ],
   "source": [
    "noSlices = 10;\n",
    "angles = linspace(-90, 90, noSlices);\n",
    "\n",
    "frames = {};\n",
    "for i = 1:noSlices\n",
    "    frames{i} = 100 * ones(50);\n",
    "end\n",
    "\n",
    "method = {'nearest','bilinear','bicubic'};\n",
    "bin_thin = fillbin_thin(frames,angles,50,method{1});\n",
    "\n",
    "imshow(uint8(bin_thin));\n",
    "colorbar\n",
    "colormap parula\n",
    "caxis([min(min(bin_thin)) max(max(bin_thin))])\n",
    "title('Reconstruction in Yaw Demo')\n",
    "xlabel('Horizontal')\n",
    "ylabel('Depth')"
   ]
  },
  {
   "cell_type": "code",
   "execution_count": null,
   "metadata": {},
   "outputs": [],
   "source": []
  },
  {
   "cell_type": "code",
   "execution_count": null,
   "metadata": {},
   "outputs": [],
   "source": []
  }
 ],
 "metadata": {
  "kernelspec": {
   "display_name": "Matlab",
   "language": "matlab",
   "name": "matlab"
  },
  "language_info": {
   "codemirror_mode": "octave",
   "file_extension": ".m",
   "help_links": [
    {
     "text": "MetaKernel Magics",
     "url": "https://github.com/calysto/metakernel/blob/master/metakernel/magics/README.md"
    }
   ],
   "mimetype": "text/x-octave",
   "name": "matlab",
   "version": "0.16.1"
  }
 },
 "nbformat": 4,
 "nbformat_minor": 2
}
