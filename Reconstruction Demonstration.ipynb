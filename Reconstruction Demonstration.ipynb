{
 "cells": [
  {
   "cell_type": "markdown",
   "metadata": {},
   "source": [
    "# Ultrasound Joint Morphology MQP\n",
    "## 3D Reconstruction Demo\n",
    "\n",
    "By using B-scans obtained during an US scan with positional data obtained through an IMU, the structure of interest can be reconstructed to provide either a 3D model or a 2D image with a wider field of view. This notebook demonstrates the use of such a reconstruction to map the knee joint space in an effort to more accessibly and reliably visualize predictors of knee osteoarthritis in a pre-clinical setting."
   ]
  },
  {
   "cell_type": "code",
   "execution_count": null,
   "metadata": {},
   "outputs": [],
   "source": []
  }
 ],
 "metadata": {
  "kernelspec": {
   "display_name": "Matlab",
   "language": "matlab",
   "name": "matlab"
  },
  "language_info": {
   "codemirror_mode": "octave",
   "file_extension": ".m",
   "help_links": [
    {
     "text": "MetaKernel Magics",
     "url": "https://github.com/calysto/metakernel/blob/master/metakernel/magics/README.md"
    }
   ],
   "mimetype": "text/x-octave",
   "name": "matlab",
   "version": "0.16.1"
  }
 },
 "nbformat": 4,
 "nbformat_minor": 2
}
